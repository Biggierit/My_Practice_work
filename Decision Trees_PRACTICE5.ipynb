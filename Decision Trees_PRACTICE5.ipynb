{
 "cells": [
  {
   "cell_type": "markdown",
   "id": "723583a5",
   "metadata": {},
   "source": [
    "Decision trees are a non-parametric model used for both regression and\n",
    "classification tasks\n",
    "\n",
    "-This notebook demonstrates how to use decision trees for classification"
   ]
  },
  {
   "cell_type": "code",
   "execution_count": 1,
   "id": "4e6aaab0",
   "metadata": {},
   "outputs": [],
   "source": [
    "#Example in Python\n",
    "\n",
    "import numpy as np\n",
    "from collections import Counter"
   ]
  },
  {
   "cell_type": "code",
   "execution_count": 2,
   "id": "6f750c68",
   "metadata": {},
   "outputs": [],
   "source": [
    "def entropy(s):\n",
    "    counts = np.bincount(s)\n",
    "    percentages = counts / len(s)\n",
    "\n",
    "    entropy = 0\n",
    "    for pct in percentages:\n",
    "        if pct > 0:\n",
    "            entropy += pct * np.log2(pct)\n",
    "    return -entropy"
   ]
  },
  {
   "cell_type": "code",
   "execution_count": 3,
   "id": "52bcce23",
   "metadata": {},
   "outputs": [
    {
     "name": "stdout",
     "output_type": "stream",
     "text": [
      "Entropy: 0.88129\n"
     ]
    }
   ],
   "source": [
    "s = [0, 0, 0, 0, 0, 0, 0, 1, 1, 1]\n",
    "print(f'Entropy: {np.round(entropy(s), 5)}')"
   ]
  },
  {
   "cell_type": "code",
   "execution_count": 4,
   "id": "f1043875",
   "metadata": {},
   "outputs": [],
   "source": [
    "#The higher the information gain, the better the decision split is\n",
    "#Example in Python\n",
    "\n",
    "def information_gain(parent, left_child, right_child):\n",
    "    num_left = len(left_child) / len(parent)\n",
    "    num_right = len(right_child) / len(parent)\n",
    "\n",
    "    gain = entropy(parent) - (num_left * entropy(left_child) + num_right * entropy(right_child))\n",
    "    return gain"
   ]
  },
  {
   "cell_type": "code",
   "execution_count": 5,
   "id": "d352674a",
   "metadata": {},
   "outputs": [
    {
     "name": "stdout",
     "output_type": "stream",
     "text": [
      "Information gain: 0.18094\n"
     ]
    }
   ],
   "source": [
    "parent = [0, 0, 0, 0, 0, 0, 0, 0, 0, 0, 0, 0, 1, 1, 1, 1, 1, 1, 1, 1]\n",
    "left_child = [0, 0, 0, 0, 0, 0, 0, 0, 0, 0, 1, 1]\n",
    "right_child = [0, 0, 0, 0, 1, 1, 1, 1]\n",
    "\n",
    "print(f'Information gain: {np.round(information_gain(parent, left_child, right_child), 5)}')"
   ]
  },
  {
   "cell_type": "markdown",
   "id": "8f694f4e",
   "metadata": {},
   "source": [
    "***Recursion Crash Course***\n",
    "A lot of decision trees implementation boils down to recursion\n",
    "\n",
    "Let's take a look at the simplest example - a recursive function that returns a\n",
    "factorial of an integer"
   ]
  },
  {
   "cell_type": "code",
   "execution_count": 6,
   "id": "bae03588",
   "metadata": {},
   "outputs": [
    {
     "name": "stdout",
     "output_type": "stream",
     "text": [
      "Factorial of 5 is 120\n"
     ]
    }
   ],
   "source": [
    "def factorial(x):\n",
    "    # Exit condition\n",
    "    if x == 1:\n",
    "        return 1\n",
    "    return x * factorial(x - 1)\n",
    "\n",
    "print(f'Factorial of 5 is {factorial(5)}')"
   ]
  },
  {
   "cell_type": "markdown",
   "id": "33278421",
   "metadata": {},
   "source": [
    "***Implementation*** We'll need two classes\n",
    "\n",
    "\n",
    "Node - implements a single node of a decision tree\n",
    "\n",
    "\n",
    "DecisionTree - implements the algorithm"
   ]
  },
  {
   "cell_type": "code",
   "execution_count": 7,
   "id": "059d98e6",
   "metadata": {},
   "outputs": [],
   "source": [
    "class Node:\n",
    "    '''\n",
    "    Helper class which implements a single tree node.\n",
    "    '''\n",
    "    def __init__(self, feature=None, threshold=None, data_left=None, data_right=None, gain=None, value=None):\n",
    "        self.feature = feature\n",
    "        self.threshold = threshold\n",
    "        self.data_left = data_left\n",
    "        self.data_right = data_right\n",
    "        self.gain = gain\n",
    "        self.value = value"
   ]
  },
  {
   "cell_type": "code",
   "execution_count": 8,
   "id": "4e85904d",
   "metadata": {},
   "outputs": [],
   "source": [
    "class DecisionTree:\n",
    "    '''\n",
    "    Class which implements a decision tree classifier algorithm.\n",
    "    '''\n",
    "    def __init__(self, min_samples_split=2, max_depth=5):\n",
    "        self.min_samples_split = min_samples_split\n",
    "        self.max_depth = max_depth\n",
    "        self.root = None\n",
    "\n",
    "    @staticmethod\n",
    "    def _entropy(s):\n",
    "        '''\n",
    "        Helper function, calculates entropy from an array of integer values.\n",
    "\n",
    "        :param s: list\n",
    "        :return: float, entropy value\n",
    "        '''\n",
    "        # Convert to integers to avoid runtime errors\n",
    "        counts = np.bincount(np.array(s, dtype=np.int64))\n",
    "        # Probabilities of each class label\n",
    "        percentages = counts / len(s)\n",
    "\n",
    "        # Caclulate entropy\n",
    "        entropy = 0\n",
    "        for pct in percentages:\n",
    "            if pct > 0:\n",
    "                entropy += pct * np.log2(pct)\n",
    "        return -entropy\n",
    "\n",
    "    def _information_gain(self, parent, left_child, right_child):\n",
    "        '''\n",
    "        Helper function, calculates information gain from a parent and two child nodes.\n",
    "\n",
    "        :param parent: list, the parent node\n",
    "        :param left_child: list, left child of a parent\n",
    "        :param right_child: list, right child of a parent\n",
    "        :return: float, information gain\n",
    "        '''\n",
    "        num_left = len(left_child) / len(parent)\n",
    "        num_right = len(right_child) / len(parent)\n",
    "\n",
    "        # One-liner which implements the previously discussed formula\n",
    "        return self._entropy(parent) - (num_left * self._entropy(left_child) + num_right *\n",
    "self._entropy(right_child))\n",
    "        \n",
    "    def _best_split(self, X, y):\n",
    "        '''\n",
    "        Helper function, calculates the best split for given features and target\n",
    "\n",
    "        :param X: np.array, features\n",
    "        :param y: np.array or list, target\n",
    "        :return: dict\n",
    "        '''\n",
    "        best_split = {}\n",
    "        best_info_gain = -1\n",
    "        n_rows, n_cols = X.shape\n",
    "\n",
    "        # For every dataset feature\n",
    "        for f_idx in range(n_cols):\n",
    "            X_curr = X[:, f_idx]\n",
    "            # For every unique value of that feature\n",
    "            for threshold in np.unique(X_curr):\n",
    "                # Construct a dataset and split it to the left and right parts\n",
    "                # Left part includes records lower or equal to the threshold\n",
    "                # Right part includes records higher than the threshold\n",
    "                df = np.concatenate((X, y.reshape(1, -1).T), axis=1)\n",
    "                df_left = np.array([row for row in df if row[f_idx] <= threshold])\n",
    "                df_right = np.array([row for row in df if row[f_idx] > threshold])\n",
    "\n",
    "                # Do the calculation only if there's data in both subsets\n",
    "                if len(df_left) > 0 and len(df_right) > 0:\n",
    "                    # Obtain the value of the target variable for subsets\n",
    "                    y = df[:, -1]\n",
    "                    y_left = df_left[:, -1]\n",
    "                    y_right = df_right[:, -1]\n",
    "\n",
    "                    # Caclulate the information gain and save the split parameters\n",
    "                    # if the current split if better then the previous best\n",
    "                    gain = self._information_gain(y, y_left, y_right)\n",
    "                    if gain > best_info_gain:\n",
    "                        best_split = {\n",
    "                            'feature_index': f_idx,\n",
    "                            'threshold': threshold,\n",
    "                            'df_left': df_left,\n",
    "                            'df_right': df_right,\n",
    "                            'gain': gain\n",
    "                        }\n",
    "                        best_info_gain = gain\n",
    "        return best_split\n",
    "def _build(self, X, y, depth=0):\n",
    "    '''\n",
    "    Helper recursive function, used to build a decision tree from the input data.\n",
    "\n",
    "    :param X: np.array, features\n",
    "    :param y: np.array or list, target\n",
    "    :param depth: current depth of a tree, used as a stopping criteria\n",
    "    :return: Node\n",
    "    '''\n",
    "    n_rows, n_cols = X.shape\n",
    "\n",
    "    # Check to see if a node should be leaf node\n",
    "    if n_rows >= self.min_samples_split and depth <= self.max_depth:\n",
    "        # Get the best split\n",
    "        best = self._best_split(X, y)\n",
    "        # If the split isn't pure\n",
    "        if best['gain'] > 0:\n",
    "            # Build a tree on the left\n",
    "            left = self._build(\n",
    "                X=best['df_left'][:, :-1],\n",
    "                y=best['df_left'][:, -1],\n",
    "                depth=depth + 1\n",
    "            )\n",
    "            right = self._build(\n",
    "                X=best['df_right'][:, :-1],\n",
    "                y=best['df_right'][:, -1],\n",
    "                depth=depth + 1\n",
    "            )\n",
    "            return Node(\n",
    "                feature=best['feature_index'],\n",
    "                threshold=best['threshold'],\n",
    "                data_left=left,\n",
    "                data_right=right,\n",
    "                gain=best['gain']\n",
    "            )\n",
    "    # Leaf node - value is the most common target value\n",
    "    return Node(\n",
    "        value=Counter(y).most_common(1)[0][0]\n",
    "    )\n",
    "def fit(self, X, y):\n",
    "    '''\n",
    "    Function used to train a decision tree classifier model.\n",
    "\n",
    "    :param X: np.array, features\n",
    "    :param y: np.array or list, target\n",
    "    :return: None\n",
    "    '''\n",
    "    # Call a recursive function to build the tree\n",
    "    self.root = self._build(X, y)\n",
    "\n",
    "def _predict(self, x, tree):\n",
    "    '''\n",
    "    Helper recursive function, used to predict a single instance (tree traversal).\n",
    "\n",
    "    :param x: single observation\n",
    "    :param tree: built tree\n",
    "    :return: float, predicted class\n",
    "    '''\n",
    "    # Leaf node\n",
    "    if tree.value != None:\n",
    "        return tree.value\n",
    "    feature_value = x[tree.feature]\n",
    "\n",
    "    # Go to the left\n",
    "    if feature_value <= tree.threshold:\n",
    "        return self._predict(x=x, tree=tree.data_left)\n",
    "\n",
    "    # Go to the right\n",
    "    if feature_value > tree.threshold:\n",
    "        return self._predict(x=x, tree=tree.data_right)\n",
    "\n",
    "def predict(self, X):\n",
    "    '''\n",
    "    Function used to classify new instances.\n",
    "\n",
    "    :param X: np.array, features\n",
    "    :return: np.array, predicted classes\n",
    "    '''\n",
    "    # Call the _predict() function for every observation\n",
    "    return [self._predict(x, self.root) for x in X]"
   ]
  },
  {
   "cell_type": "markdown",
   "id": "c2dfc055",
   "metadata": {},
   "source": [
    "***We'll use the Iris dataset from Scikit-Learn for Testing***"
   ]
  },
  {
   "cell_type": "code",
   "execution_count": 9,
   "id": "96c579b1",
   "metadata": {},
   "outputs": [],
   "source": [
    "from sklearn.datasets import load_iris\n",
    "\n",
    "iris = load_iris()\n",
    "\n",
    "X = iris['data']\n",
    "y = iris['target']"
   ]
  },
  {
   "cell_type": "code",
   "execution_count": 10,
   "id": "bc8f0844",
   "metadata": {},
   "outputs": [],
   "source": [
    "#The below code applies train/test split to the dataset:\n",
    "\n",
    "from sklearn.model_selection import train_test_split\n",
    "X_train, X_test, y_train, y_test = train_test_split(X, y, test_size=0.2, random_state=42)"
   ]
  },
  {
   "cell_type": "code",
   "execution_count": 11,
   "id": "1da5b872",
   "metadata": {},
   "outputs": [
    {
     "ename": "AttributeError",
     "evalue": "'DecisionTree' object has no attribute 'fit'",
     "output_type": "error",
     "traceback": [
      "\u001b[1;31m---------------------------------------------------------------------------\u001b[0m",
      "\u001b[1;31mAttributeError\u001b[0m                            Traceback (most recent call last)",
      "\u001b[1;32m<ipython-input-11-db93603f9a33>\u001b[0m in \u001b[0;36m<module>\u001b[1;34m\u001b[0m\n\u001b[0;32m      2\u001b[0m \u001b[1;33m\u001b[0m\u001b[0m\n\u001b[0;32m      3\u001b[0m \u001b[0mmodel\u001b[0m \u001b[1;33m=\u001b[0m \u001b[0mDecisionTree\u001b[0m\u001b[1;33m(\u001b[0m\u001b[1;33m)\u001b[0m\u001b[1;33m\u001b[0m\u001b[1;33m\u001b[0m\u001b[0m\n\u001b[1;32m----> 4\u001b[1;33m \u001b[0mmodel\u001b[0m\u001b[1;33m.\u001b[0m\u001b[0mfit\u001b[0m\u001b[1;33m(\u001b[0m\u001b[0mX_train\u001b[0m\u001b[1;33m,\u001b[0m \u001b[0my_train\u001b[0m\u001b[1;33m)\u001b[0m\u001b[1;33m\u001b[0m\u001b[1;33m\u001b[0m\u001b[0m\n\u001b[0m\u001b[0;32m      5\u001b[0m \u001b[0mpreds\u001b[0m \u001b[1;33m=\u001b[0m \u001b[0mmodel\u001b[0m\u001b[1;33m.\u001b[0m\u001b[0mpredict\u001b[0m\u001b[1;33m(\u001b[0m\u001b[0mX_test\u001b[0m\u001b[1;33m)\u001b[0m\u001b[1;33m\u001b[0m\u001b[1;33m\u001b[0m\u001b[0m\n",
      "\u001b[1;31mAttributeError\u001b[0m: 'DecisionTree' object has no attribute 'fit'"
     ]
    }
   ],
   "source": [
    "#initialize and train the model for prediction\n",
    "\n",
    "model = DecisionTree()\n",
    "model.fit(X_train, y_train)\n",
    "preds = model.predict(X_test)"
   ]
  },
  {
   "cell_type": "code",
   "execution_count": null,
   "id": "b4edbb39",
   "metadata": {},
   "outputs": [],
   "source": [
    "np.array(preds, dtype=np.int64)"
   ]
  },
  {
   "cell_type": "code",
   "execution_count": null,
   "id": "f20d248c",
   "metadata": {},
   "outputs": [],
   "source": [
    "y_test"
   ]
  },
  {
   "cell_type": "code",
   "execution_count": null,
   "id": "dd567782",
   "metadata": {},
   "outputs": [],
   "source": [
    "#Let's calculate the accuracy to confirm\n",
    "\n",
    "from sklearn.metrics import accuracy_score\n",
    "accuracy_score(y_test, preds)"
   ]
  },
  {
   "cell_type": "markdown",
   "id": "85fe7bec",
   "metadata": {},
   "source": [
    "***Comparison with Scikit-Learn***\n"
   ]
  },
  {
   "cell_type": "code",
   "execution_count": null,
   "id": "9144239d",
   "metadata": {},
   "outputs": [],
   "source": [
    "from sklearn.tree import DecisionTreeClassifier\n",
    "\n",
    "sk_model = DecisionTreeClassifier()\n",
    "sk_model.fit(X_train, y_train)\n",
    "sk_preds = sk_model.predict(X_test)"
   ]
  },
  {
   "cell_type": "code",
   "execution_count": null,
   "id": "24ad25be",
   "metadata": {},
   "outputs": [],
   "source": [
    "accuracy_score(y_test, sk_preds)"
   ]
  },
  {
   "cell_type": "markdown",
   "id": "d8591593",
   "metadata": {},
   "source": [
    "#Both perform the same, at least accuracy-wise"
   ]
  }
 ],
 "metadata": {
  "kernelspec": {
   "display_name": "Python 3",
   "language": "python",
   "name": "python3"
  },
  "language_info": {
   "codemirror_mode": {
    "name": "ipython",
    "version": 3
   },
   "file_extension": ".py",
   "mimetype": "text/x-python",
   "name": "python",
   "nbconvert_exporter": "python",
   "pygments_lexer": "ipython3",
   "version": "3.8.5"
  }
 },
 "nbformat": 4,
 "nbformat_minor": 5
}
